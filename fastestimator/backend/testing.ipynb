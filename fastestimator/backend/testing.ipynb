{
 "cells": [
  {
   "cell_type": "code",
   "execution_count": 18,
   "metadata": {},
   "outputs": [],
   "source": [
    "import numpy as np\n",
    "numpy_array = np.arange(0.0, 27.0, 1.0, dtype=np.float32).reshape((1, 3, 3, 3))"
   ]
  },
  {
   "cell_type": "code",
   "execution_count": 4,
   "metadata": {},
   "outputs": [],
   "source": [
    "from tensor_normalize import normalize"
   ]
  },
  {
   "cell_type": "code",
   "execution_count": 10,
   "metadata": {},
   "outputs": [],
   "source": [
    "import tensorflow as tf\n",
    "mean = tf.convert_to_tensor(numpy_array)"
   ]
  },
  {
   "cell_type": "code",
   "execution_count": 16,
   "metadata": {},
   "outputs": [
    {
     "data": {
      "text/plain": [
       "0.48148148148148145"
      ]
     },
     "execution_count": 16,
     "metadata": {},
     "output_type": "execute_result"
    }
   ],
   "source": [
    "13/27"
   ]
  },
  {
   "cell_type": "code",
   "execution_count": 13,
   "metadata": {},
   "outputs": [],
   "source": [
    "mean=(0.44, 0.48, 0.52)\n",
    "std=(0.287, 0.287, 0.287)\n",
    "std = np.array(std, dtype=np.float32)\n",
    "std *= np.array(27)\n",
    "\n",
    "mean = np.array(mean, dtype=np.float32)\n",
    "mean *= np.array(27)"
   ]
  },
  {
   "cell_type": "code",
   "execution_count": 19,
   "metadata": {},
   "outputs": [
    {
     "name": "stdout",
     "output_type": "stream",
     "text": [
      "[[[[-1.5331011  -1.543425   -1.5537487 ]\n",
      "   [-1.1459544  -1.1562783  -1.166602  ]\n",
      "   [-0.7588076  -0.7691315  -0.7794553 ]]\n",
      "\n",
      "  [[-0.37166086 -0.38198477 -0.39230856]\n",
      "   [ 0.01548585  0.00516195 -0.00516183]\n",
      "   [ 0.4026326   0.39230868  0.3819849 ]]\n",
      "\n",
      "  [[ 0.7897793   0.7794554   0.7691316 ]\n",
      "   [ 1.176926    1.1666021   1.1562784 ]\n",
      "   [ 1.5640727   1.5537488   1.5434251 ]]]]\n"
     ]
    }
   ],
   "source": [
    "print((numpy_array-mean)/(std+1e-7))"
   ]
  },
  {
   "cell_type": "code",
   "execution_count": null,
   "metadata": {},
   "outputs": [],
   "source": []
  },
  {
   "cell_type": "code",
   "execution_count": 6,
   "metadata": {},
   "outputs": [
    {
     "data": {
      "text/plain": [
       "(5.5, 3.4520526)"
      ]
     },
     "execution_count": 6,
     "metadata": {},
     "output_type": "execute_result"
    }
   ],
   "source": [
    "np.mean(numpy_array), np.std(numpy_array)"
   ]
  },
  {
   "cell_type": "code",
   "execution_count": 9,
   "metadata": {},
   "outputs": [
    {
     "data": {
      "text/plain": [
       "0.31382295"
      ]
     },
     "execution_count": 9,
     "metadata": {},
     "output_type": "execute_result"
    }
   ],
   "source": [
    "np.std(numpy_array)/np.max(numpy_array)"
   ]
  },
  {
   "cell_type": "code",
   "execution_count": 8,
   "metadata": {},
   "outputs": [
    {
     "data": {
      "text/plain": [
       "0.5"
      ]
     },
     "execution_count": 8,
     "metadata": {},
     "output_type": "execute_result"
    }
   ],
   "source": [
    "5.5/11.0"
   ]
  },
  {
   "cell_type": "code",
   "execution_count": null,
   "metadata": {},
   "outputs": [],
   "source": [
    "3.4"
   ]
  }
 ],
 "metadata": {
  "interpreter": {
   "hash": "cffece679b494242385f364b50292a2b4e6d3e076de7f0e11c23f6d0e4e182d2"
  },
  "kernelspec": {
   "display_name": "Python 3.8.10 64-bit",
   "language": "python",
   "name": "python3"
  },
  "language_info": {
   "codemirror_mode": {
    "name": "ipython",
    "version": 3
   },
   "file_extension": ".py",
   "mimetype": "text/x-python",
   "name": "python",
   "nbconvert_exporter": "python",
   "pygments_lexer": "ipython3",
   "version": "3.8.10"
  },
  "orig_nbformat": 4
 },
 "nbformat": 4,
 "nbformat_minor": 2
}
