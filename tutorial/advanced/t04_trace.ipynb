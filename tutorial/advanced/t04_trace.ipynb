{
 "cells": [
  {
   "cell_type": "markdown",
   "metadata": {},
   "source": [
    "# Advanced Tutorial 4: Trace\n",
    "\n",
    "## Overview\n",
    "In this tutorial, we will discuss:\n",
    "* [Customizing Traces](#ta04customize)\n",
    "    * [Example](#ta04example)\n",
    "* [More About Traces](#ta04more)\n",
    "    * [Inputs, Outputs, and Mode](#ta04iom)\n",
    "    * [Data](#ta04data)\n",
    "    * [System](#ta04system)\n",
    "* [Trace Communication](#ta04communication)\n",
    "* [Other Trace Usages](#ta04other)\n",
    "    * [Debugging/Monitoring](#ta04debug)\n",
    "* [Related Apphub Examples](#ta04apphub)"
   ]
  },
  {
   "cell_type": "markdown",
   "metadata": {},
   "source": [
    "Let's create a function to generate a pipeline, model and network to be used for the tutorial:"
   ]
  },
  {
   "cell_type": "code",
   "execution_count": 1,
   "metadata": {},
   "outputs": [],
   "source": [
    "import fastestimator as fe\n",
    "from fastestimator.architecture.tensorflow import LeNet\n",
    "from fastestimator.dataset.data import mnist\n",
    "from fastestimator.op.numpyop.univariate import ExpandDims, Minmax\n",
    "from fastestimator.op.tensorop.loss import CrossEntropy\n",
    "from fastestimator.op.tensorop.model import ModelOp, UpdateOp\n",
    "\n",
    "\n",
    "def get_pipeline_model_network(model_name=\"LeNet\", batch_size=32):\n",
    "    train_data, eval_data = mnist.load_data()\n",
    "    test_data = eval_data.split(0.5)\n",
    "    \n",
    "    pipeline = fe.Pipeline(train_data=train_data,\n",
    "                           eval_data=eval_data,\n",
    "                           test_data=test_data,\n",
    "                           batch_size=batch_size,\n",
    "                           ops=[ExpandDims(inputs=\"x\", outputs=\"x\"), \n",
    "                                Minmax(inputs=\"x\", outputs=\"x\")])\n",
    "\n",
    "    model = fe.build(model_fn=LeNet, optimizer_fn=\"adam\", model_name=model_name)\n",
    "\n",
    "    network = fe.Network(ops=[\n",
    "        ModelOp(model=model, inputs=\"x\", outputs=\"y_pred\"),\n",
    "        CrossEntropy(inputs=(\"y_pred\", \"y\"), outputs=\"ce\"),\n",
    "        UpdateOp(model=model, loss_name=\"ce\")\n",
    "    ])\n",
    "\n",
    "    return pipeline, model, network"
   ]
  },
  {
   "cell_type": "markdown",
   "metadata": {},
   "source": [
    "<a id='ta04customize'></a>"
   ]
  },
  {
   "cell_type": "markdown",
   "metadata": {},
   "source": [
    "## Customizing Traces\n",
    "In [tutorial 7](../beginner/t07_estimator.ipynb) in the beginner section, we talked about the basic concept and structure of `Traces` and used a few `Traces` provided by FastEstimator. We can also customize a Trace to suit our needs. Let's look at an example of a custom trace implementation:"
   ]
  },
  {
   "cell_type": "markdown",
   "metadata": {},
   "source": [
    "<a id='ta04example'></a>"
   ]
  },
  {
   "cell_type": "markdown",
   "metadata": {},
   "source": [
    "### Example\n",
    "We can utilize traces to calculate any custom metric needed for monitoring or controlling training. Below, we implement a trace for calculating the F-beta score of our model."
   ]
  },
  {
   "cell_type": "code",
   "execution_count": 2,
   "metadata": {},
   "outputs": [],
   "source": [
    "from fastestimator.backend import to_number\n",
    "from fastestimator.trace import Trace\n",
    "from sklearn.metrics import fbeta_score\n",
    "import numpy as np\n",
    "\n",
    "class FBetaScore(Trace):\n",
    "    def __init__(self, true_key, pred_key, beta=2, output_name=\"f_beta_score\", mode=[\"eval\", \"test\"]):\n",
    "        super().__init__(inputs=(true_key, pred_key), outputs=output_name, mode=mode)\n",
    "        self.true_key = true_key\n",
    "        self.pred_key = pred_key\n",
    "        self.beta = beta\n",
    "        self.y_true = []\n",
    "        self.y_pred = []\n",
    "        \n",
    "    def on_epoch_begin(self, data):\n",
    "        self.y_true = []\n",
    "        self.y_pred = []\n",
    "        \n",
    "    def on_batch_end(self, data):\n",
    "        y_true, y_pred = to_number(data[self.true_key]), to_number(data[self.pred_key])\n",
    "        y_pred = np.argmax(y_pred, axis=-1)\n",
    "        self.y_pred.extend(y_pred.ravel())\n",
    "        self.y_true.extend(y_true.ravel())\n",
    "        \n",
    "    def on_epoch_end(self, data):\n",
    "        score = fbeta_score(self.y_true, self.y_pred, beta=self.beta, average=\"weighted\")\n",
    "        data.write_with_log(self.outputs[0], score)"
   ]
  },
  {
   "cell_type": "markdown",
   "metadata": {},
   "source": [
    "Now let's calculate the f2-score using our custom `Trace`. f2-score gives more importance to recall."
   ]
  },
  {
   "cell_type": "code",
   "execution_count": 3,
   "metadata": {},
   "outputs": [
    {
     "name": "stdout",
     "output_type": "stream",
     "text": [
      "    ______           __  ______     __  _                 __            \n",
      "   / ____/___ ______/ /_/ ____/____/ /_(_)___ ___  ____ _/ /_____  _____\n",
      "  / /_  / __ `/ ___/ __/ __/ / ___/ __/ / __ `__ \\/ __ `/ __/ __ \\/ ___/\n",
      " / __/ / /_/ (__  ) /_/ /___(__  ) /_/ / / / / / / /_/ / /_/ /_/ / /    \n",
      "/_/    \\__,_/____/\\__/_____/____/\\__/_/_/ /_/ /_/\\__,_/\\__/\\____/_/     \n",
      "                                                                        \n",
      "\n",
      "FastEstimator-Warn: No ModelSaver Trace detected. Models will not be saved.\n",
      "FastEstimator-Start: step: 1; num_device: 0; logging_interval: 1000; \n",
      "FastEstimator-Train: step: 1; ce: 2.3049126; \n",
      "FastEstimator-Train: step: 1000; ce: 0.18839744; steps/sec: 121.57; \n",
      "FastEstimator-Train: step: 1875; epoch: 1; epoch_time: 19.89 sec; \n",
      "FastEstimator-Eval: step: 1875; epoch: 1; ce: 0.04401617; f2_score: 0.9853780424409669; \n",
      "FastEstimator-Train: step: 2000; ce: 0.015927518; steps/sec: 95.05; \n",
      "FastEstimator-Train: step: 3000; ce: 0.07206129; steps/sec: 186.86; \n",
      "FastEstimator-Train: step: 3750; epoch: 2; epoch_time: 10.6 sec; \n",
      "FastEstimator-Eval: step: 3750; epoch: 2; ce: 0.04134067; f2_score: 0.9845700637368479; \n",
      "FastEstimator-Train: step: 4000; ce: 0.008171058; steps/sec: 169.0; \n",
      "FastEstimator-Train: step: 5000; ce: 0.0019764265; steps/sec: 180.37; \n",
      "FastEstimator-Train: step: 5625; epoch: 3; epoch_time: 10.88 sec; \n",
      "FastEstimator-Eval: step: 5625; epoch: 3; ce: 0.029307945; f2_score: 0.9900004384152095; \n",
      "FastEstimator-Train: step: 6000; ce: 0.0135234; steps/sec: 167.19; \n",
      "FastEstimator-Train: step: 7000; ce: 0.04989395; steps/sec: 183.41; \n",
      "FastEstimator-Train: step: 7500; epoch: 4; epoch_time: 10.4 sec; \n",
      "FastEstimator-Eval: step: 7500; epoch: 4; ce: 0.032727916; f2_score: 0.9897883746689528; \n",
      "FastEstimator-Finish: step: 7500; total_time: 54.32 sec; LeNet_lr: 0.001; \n"
     ]
    }
   ],
   "source": [
    "pipeline, model, network = get_pipeline_model_network()\n",
    "\n",
    "traces = FBetaScore(true_key=\"y\", pred_key=\"y_pred\", beta=2, output_name=\"f2_score\", mode=\"eval\")\n",
    "estimator = fe.Estimator(pipeline=pipeline, network=network, epochs=4, traces=traces, log_steps=1000)\n",
    "\n",
    "estimator.fit()"
   ]
  },
  {
   "cell_type": "markdown",
   "metadata": {},
   "source": [
    "<a id='ta04more'></a>"
   ]
  },
  {
   "cell_type": "markdown",
   "metadata": {},
   "source": [
    "## More About Traces\n",
    "As we have now seen a custom Trace implementaion, let's delve deeper into the structure of `Traces`."
   ]
  },
  {
   "cell_type": "markdown",
   "metadata": {},
   "source": [
    "<a id='ta04iom'></a>"
   ]
  },
  {
   "cell_type": "markdown",
   "metadata": {},
   "source": [
    "### Inputs, Outputs, and Mode\n",
    "These Trace arguments are similar to the Operator. To recap, the keys from the data dictionary which are required by the Trace can be specified using the `inputs` argument. The `outputs` argument is used to specify the keys which the Trace wants to write into the system buffer. Unlike with Ops, the Trace `inputs` and `outputs` are essentially on an honor system. FastEstimator will not check whether a Trace is really only reading values listed in its `inputs` and writing values listed in its `outputs`. If you are developing a new `Trace` and want your code to work well with the features provided by FastEstimator, it is important to use these fields correctly. The `mode` argument is used to specify the mode(s) for trace execution as with `Ops`. "
   ]
  },
  {
   "cell_type": "markdown",
   "metadata": {},
   "source": [
    "<a id='ta04data'></a>"
   ]
  },
  {
   "cell_type": "markdown",
   "metadata": {},
   "source": [
    "### Data\n",
    "Through its data argument, Trace has access to the current data dictionary. You can use any keys which the Trace declared as its `inputs` to access information from the data dictionary. You can write the outputs into the `Data` dictionary with or without logging using the `write_with_log` and `write_without_log` methods respectively."
   ]
  },
  {
   "cell_type": "markdown",
   "metadata": {},
   "source": [
    "<a id='ta04system'></a>"
   ]
  },
  {
   "cell_type": "markdown",
   "metadata": {},
   "source": [
    "### System\n",
    "\n",
    "Traces have access to the current `System` instance which has information about the `Network` and training process. The information contained in `System` is listed below:\n",
    "* global_step\n",
    "* num_devices\n",
    "* log_steps\n",
    "* total_epochs\n",
    "* epoch_idx\n",
    "* batch_idx\n",
    "* stop_training\n",
    "* network\n",
    "* max_train_steps_per_epoch\n",
    "* max_eval_steps_per_epoch\n",
    "* summary\n",
    "* experiment_time\n",
    "\n",
    "We will showcase `System` usage in the [other trace usages](#ta04other) section of this tutorial. "
   ]
  },
  {
   "cell_type": "markdown",
   "metadata": {},
   "source": [
    "<a id='ta04communication'></a>"
   ]
  },
  {
   "cell_type": "markdown",
   "metadata": {},
   "source": [
    "## Trace Communication\n",
    "We can have multiple traces in a network where the output of one trace is utilized as an input for another, as depicted below: "
   ]
  },
  {
   "cell_type": "markdown",
   "metadata": {},
   "source": [
    "<img src=\"../resources/t04_advanced_trace_communication.png\" alt=\"drawing\" width=\"500\"/>"
   ]
  },
  {
   "cell_type": "markdown",
   "metadata": {},
   "source": [
    "Let's see an example where we utilize the outputs of the `Precision` and `Recall` `Traces` to generate f1-score:"
   ]
  },
  {
   "cell_type": "code",
   "execution_count": 4,
   "metadata": {},
   "outputs": [],
   "source": [
    "from fastestimator.trace.metric import Precision, Recall\n",
    "\n",
    "class CustomF1Score(Trace):\n",
    "    def __init__(self, precision_key, recall_key, mode=[\"eval\", \"test\"], output_name=\"f1_score\"):\n",
    "        super().__init__(inputs=(precision_key, recall_key), outputs=output_name, mode=mode)\n",
    "        self.precision_key = precision_key\n",
    "        self.recall_key = recall_key\n",
    "        \n",
    "    def on_epoch_end(self, data):\n",
    "        precision = data[self.precision_key]\n",
    "        recall = data[self.recall_key]\n",
    "        score = 2*(precision*recall)/(precision+recall)\n",
    "        data.write_with_log(self.outputs[0], score)\n",
    "        \n",
    "\n",
    "pipeline, model, network = get_pipeline_model_network()\n",
    "\n",
    "traces = [\n",
    "    Precision(true_key=\"y\", pred_key=\"y_pred\", mode=[\"eval\", \"test\"], output_name=\"precision\"),\n",
    "    Recall(true_key=\"y\", pred_key=\"y_pred\", mode=[\"eval\", \"test\"], output_name=\"recall\"),\n",
    "    CustomF1Score(precision_key=\"precision\", recall_key=\"recall\", mode=[\"eval\", \"test\"], output_name=\"f1_score\")\n",
    "]\n",
    "estimator = fe.Estimator(pipeline=pipeline, network=network, epochs=2, traces=traces, log_steps=1000)"
   ]
  },
  {
   "cell_type": "code",
   "execution_count": 5,
   "metadata": {},
   "outputs": [
    {
     "name": "stdout",
     "output_type": "stream",
     "text": [
      "    ______           __  ______     __  _                 __            \n",
      "   / ____/___ ______/ /_/ ____/____/ /_(_)___ ___  ____ _/ /_____  _____\n",
      "  / /_  / __ `/ ___/ __/ __/ / ___/ __/ / __ `__ \\/ __ `/ __/ __ \\/ ___/\n",
      " / __/ / /_/ (__  ) /_/ /___(__  ) /_/ / / / / / / /_/ / /_/ /_/ / /    \n",
      "/_/    \\__,_/____/\\__/_____/____/\\__/_/_/ /_/ /_/\\__,_/\\__/\\____/_/     \n",
      "                                                                        \n",
      "\n",
      "FastEstimator-Warn: No ModelSaver Trace detected. Models will not be saved.\n",
      "FastEstimator-Start: step: 1; num_device: 0; logging_interval: 1000; \n",
      "FastEstimator-Train: step: 1; ce: 2.2952752; \n",
      "FastEstimator-Train: step: 1000; ce: 0.1313241; steps/sec: 179.84; \n",
      "FastEstimator-Train: step: 1875; epoch: 1; epoch_time: 10.96 sec; \n",
      "FastEstimator-Eval: step: 1875; epoch: 1; ce: 0.04599155; \n",
      "precision:\n",
      "[0.98878505,0.99165275,0.98351648,0.99017682,0.99798793,0.98454746,\n",
      " 0.98198198,0.98294243,0.96296296,0.97402597];\n",
      "recall:\n",
      "[0.99249531,0.98181818,0.98713235,0.99212598,0.98023715,0.98454746,\n",
      " 0.98866213,0.96848739,0.98526316,0.98039216];\n",
      "f1_score:\n",
      "[0.9906367 ,0.98671096,0.9853211 ,0.99115044,0.9890329 ,0.98454746,\n",
      " 0.98531073,0.97566138,0.97398543,0.9771987 ];\n",
      "FastEstimator-Train: step: 2000; ce: 0.0038511096; steps/sec: 164.72; \n",
      "FastEstimator-Train: step: 3000; ce: 0.004517486; steps/sec: 161.99; \n",
      "FastEstimator-Train: step: 3750; epoch: 2; epoch_time: 12.14 sec; \n",
      "FastEstimator-Eval: step: 3750; epoch: 2; ce: 0.034655295; \n",
      "precision:\n",
      "[0.9906367 ,0.99505766,0.98899083,0.98635478,0.984375  ,0.98675497,\n",
      " 0.98868778,0.99353448,0.97717842,0.99107143];\n",
      "recall:\n",
      "[0.99249531,0.99834711,0.99080882,0.99606299,0.99604743,0.98675497,\n",
      " 0.99092971,0.96848739,0.99157895,0.96732026];\n",
      "f1_score:\n",
      "[0.99156514,0.99669967,0.98989899,0.99118511,0.99017682,0.98675497,\n",
      " 0.98980747,0.98085106,0.98432602,0.97905182];\n",
      "FastEstimator-Finish: step: 3750; total_time: 24.53 sec; LeNet_lr: 0.001; \n"
     ]
    }
   ],
   "source": [
    "estimator.fit()"
   ]
  },
  {
   "cell_type": "markdown",
   "metadata": {},
   "source": [
    "`Note:` precision, recall, and f1-score are displayed for each class"
   ]
  },
  {
   "cell_type": "markdown",
   "metadata": {},
   "source": [
    "<a id='ta04other'></a>"
   ]
  },
  {
   "cell_type": "markdown",
   "metadata": {},
   "source": [
    "## Other Trace Usages "
   ]
  },
  {
   "cell_type": "markdown",
   "metadata": {},
   "source": [
    "<a id='ta04debug'></a>"
   ]
  },
  {
   "cell_type": "markdown",
   "metadata": {},
   "source": [
    "### Debugging/Monitoring\n",
    "Lets implement a custom trace to monitor a model's predictions. Using this, any discrepancy from the expected behavior can be checked and the relevant corrections can be made: "
   ]
  },
  {
   "cell_type": "code",
   "execution_count": 6,
   "metadata": {},
   "outputs": [],
   "source": [
    "class MonitorPred(Trace):\n",
    "    def __init__(self, true_key, pred_key, mode=\"train\"):\n",
    "        super().__init__(inputs=(true_key, pred_key), mode=mode)\n",
    "        self.true_key = true_key\n",
    "        self.pred_key = pred_key\n",
    "        \n",
    "    def on_batch_end(self, data):\n",
    "        print(\"Global Step Index: \", self.system.global_step)\n",
    "        print(\"Batch Index: \", self.system.batch_idx)\n",
    "        print(\"Epoch: \", self.system.epoch_idx)\n",
    "        print(\"Batch data has following keys: \", list(data.keys()))\n",
    "        print(\"Batch true labels: \", data[self.true_key])\n",
    "        print(\"Batch predictictions: \", data[self.pred_key])\n",
    "\n",
    "pipeline, model, network = get_pipeline_model_network(batch_size=4)\n",
    "\n",
    "traces = MonitorPred(true_key=\"y\", pred_key=\"y_pred\")\n",
    "estimator = fe.Estimator(pipeline=pipeline, network=network, epochs=2, traces=traces, max_train_steps_per_epoch=2, log_steps=None)"
   ]
  },
  {
   "cell_type": "code",
   "execution_count": 7,
   "metadata": {},
   "outputs": [
    {
     "name": "stdout",
     "output_type": "stream",
     "text": [
      "    ______           __  ______     __  _                 __            \n",
      "   / ____/___ ______/ /_/ ____/____/ /_(_)___ ___  ____ _/ /_____  _____\n",
      "  / /_  / __ `/ ___/ __/ __/ / ___/ __/ / __ `__ \\/ __ `/ __/ __ \\/ ___/\n",
      " / __/ / /_/ (__  ) /_/ /___(__  ) /_/ / / / / / / /_/ / /_/ /_/ / /    \n",
      "/_/    \\__,_/____/\\__/_____/____/\\__/_/_/ /_/ /_/\\__,_/\\__/\\____/_/     \n",
      "                                                                        \n",
      "\n",
      "FastEstimator-Warn: No ModelSaver Trace detected. Models will not be saved.\n",
      "Global Step Index:  1\n",
      "Batch Index:  1\n",
      "Epoch:  1\n",
      "Batch data has following keys:  ['x', 'y', 'y_pred', 'ce']\n",
      "Batch true labels:  tf.Tensor([4 6 6 0], shape=(4,), dtype=uint8)\n",
      "Batch predictictions:  tf.Tensor(\n",
      "[[0.10117384 0.09088749 0.09792296 0.09737834 0.09084693 0.08700039\n",
      "  0.11264212 0.10984743 0.10661378 0.10568672]\n",
      " [0.0952943  0.09128962 0.10272249 0.10368769 0.09144977 0.08363624\n",
      "  0.1107841  0.11008291 0.10188652 0.10916632]\n",
      " [0.10018928 0.08916146 0.10396809 0.10721539 0.0849424  0.08629669\n",
      "  0.11222021 0.10986723 0.09851621 0.10762308]\n",
      " [0.09981812 0.09000086 0.10369569 0.09561141 0.09411818 0.08580256\n",
      "  0.11238981 0.10954484 0.10357945 0.10543918]], shape=(4, 10), dtype=float32)\n",
      "Global Step Index:  2\n",
      "Batch Index:  2\n",
      "Epoch:  1\n",
      "Batch data has following keys:  ['x', 'y', 'y_pred', 'ce']\n",
      "Batch true labels:  tf.Tensor([4 4 9 1], shape=(4,), dtype=uint8)\n",
      "Batch predictictions:  tf.Tensor(\n",
      "[[0.10240942 0.07996594 0.10190804 0.09579862 0.09545476 0.07724807\n",
      "  0.12645632 0.1047412  0.1043587  0.11165903]\n",
      " [0.10151558 0.08773842 0.09836152 0.09669358 0.0958946  0.07577368\n",
      "  0.12727338 0.10294375 0.10158429 0.11222118]\n",
      " [0.10219741 0.08286765 0.10365716 0.09298524 0.09625786 0.06968912\n",
      "  0.13070971 0.10312404 0.10423445 0.11427741]\n",
      " [0.10077347 0.08387047 0.10196234 0.09324285 0.09473021 0.08261613\n",
      "  0.11878415 0.1059215  0.11001182 0.10808703]], shape=(4, 10), dtype=float32)\n",
      "Global Step Index:  3\n",
      "Batch Index:  1\n",
      "Epoch:  2\n",
      "Batch data has following keys:  ['x', 'y', 'y_pred', 'ce']\n",
      "Batch true labels:  tf.Tensor([0 7 7 7], shape=(4,), dtype=uint8)\n",
      "Batch predictictions:  tf.Tensor(\n",
      "[[0.10566284 0.07728784 0.10565729 0.08178721 0.10713114 0.06507431\n",
      "  0.13530098 0.09833021 0.10452496 0.11924319]\n",
      " [0.10526433 0.08540256 0.0971095  0.08443997 0.1094939  0.06850007\n",
      "  0.12796785 0.09084202 0.10899913 0.12198068]\n",
      " [0.10248369 0.0828173  0.10205018 0.0864138  0.10586432 0.07090016\n",
      "  0.1273839  0.09568971 0.10854369 0.1178532 ]\n",
      " [0.10461577 0.08429881 0.09658652 0.08807645 0.10916384 0.07197928\n",
      "  0.12543353 0.09240671 0.10978852 0.11765066]], shape=(4, 10), dtype=float32)\n",
      "Global Step Index:  4\n",
      "Batch Index:  2\n",
      "Epoch:  2\n",
      "Batch data has following keys:  ['x', 'y', 'y_pred', 'ce']\n",
      "Batch true labels:  tf.Tensor([0 5 3 7], shape=(4,), dtype=uint8)\n",
      "Batch predictictions:  tf.Tensor(\n",
      "[[0.09841534 0.0690296  0.10122424 0.07857155 0.11737346 0.05218776\n",
      "  0.13999611 0.10599035 0.11199971 0.12521197]\n",
      " [0.10094637 0.07799206 0.10599674 0.08304708 0.11446269 0.060531\n",
      "  0.13092558 0.10104699 0.10494769 0.12010376]\n",
      " [0.09200194 0.08393346 0.0990442  0.08482413 0.11270893 0.0664842\n",
      "  0.12764609 0.10573834 0.11171819 0.11590049]\n",
      " [0.10079639 0.08117153 0.10319441 0.08249949 0.11676847 0.06465001\n",
      "  0.12598662 0.10077127 0.10564327 0.11851855]], shape=(4, 10), dtype=float32)\n"
     ]
    }
   ],
   "source": [
    "estimator.fit()"
   ]
  },
  {
   "cell_type": "markdown",
   "metadata": {},
   "source": [
    "As you can see, we can visualize information like the global step, batch number, epoch, keys in the data dictionary, true labels, and predictions at batch level using our `Trace`."
   ]
  },
  {
   "cell_type": "markdown",
   "metadata": {},
   "source": [
    "<a id='ta04apphub'></a>"
   ]
  },
  {
   "cell_type": "markdown",
   "metadata": {},
   "source": [
    "## Apphub Examples\n",
    "You can find some practical examples of the concepts described here in the following FastEstimator Apphubs:\n",
    "\n",
    "* [CIFAR10](../../apphub/image_classification/cifar10_fast/cifar10_fast.ipynb)"
   ]
  }
 ],
 "metadata": {
  "kernelspec": {
   "display_name": "Python 3",
   "language": "python",
   "name": "python3"
  },
  "language_info": {
   "codemirror_mode": {
    "name": "ipython",
    "version": 3
   },
   "file_extension": ".py",
   "mimetype": "text/x-python",
   "name": "python",
   "nbconvert_exporter": "python",
   "pygments_lexer": "ipython3",
   "version": "3.6.6"
  }
 },
 "nbformat": 4,
 "nbformat_minor": 4
}
